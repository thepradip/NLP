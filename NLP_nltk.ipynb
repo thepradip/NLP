{
 "cells": [
  {
   "cell_type": "markdown",
   "metadata": {},
   "source": [
    "# Natural language Processing"
   ]
  },
  {
   "cell_type": "markdown",
   "metadata": {},
   "source": [
    "## What Is Natural Language Processing?\n",
    "Natural language processing is the ability for a\n",
    "computer/system to truly understand human language and process it in\n",
    "the same way that a human does."
   ]
  },
  {
   "cell_type": "markdown",
   "metadata": {},
   "source": [
    "<b> CoreNLP</b> from Stanford group<br>\n",
    "<b>NLTK</b>, the most widely-mentioned NLP library for Python<br>\n",
    "<b>TextBlob</b>, a user-friendly and intuitive NLTK interface<br>\n",
    "<b>Gensim</b>, a library for document similarity analysis<br>\n",
    "<b>SpaCy</b>, an industrial-strength NLP library built for performance<br>\n"
   ]
  },
  {
   "cell_type": "markdown",
   "metadata": {},
   "source": [
    "## Application of NLP"
   ]
  },
  {
   "cell_type": "markdown",
   "metadata": {},
   "source": [
    "<li>Text Summarization</li><br>\n",
    "<li>Text Tagging</li><br>\n",
    "<li>Named Entity Recognition</li><br>\n",
    "<li>Chatbot</li><br>\n",
    "<li>Speech Recognition</li><br>\n"
   ]
  },
  {
   "cell_type": "markdown",
   "metadata": {},
   "source": [
    "## NLP Library"
   ]
  },
  {
   "cell_type": "markdown",
   "metadata": {},
   "source": [
    "# install nltk\n",
    "<code>pip install nltk</code>"
   ]
  },
  {
   "cell_type": "code",
   "execution_count": 1,
   "metadata": {
    "scrolled": true
   },
   "outputs": [
    {
     "name": "stderr",
     "output_type": "stream",
     "text": [
      "[nltk_data] Downloading package punkt to /home/pradip/nltk_data...\n",
      "[nltk_data]   Package punkt is already up-to-date!\n"
     ]
    },
    {
     "data": {
      "text/plain": [
       "True"
      ]
     },
     "execution_count": 1,
     "metadata": {},
     "output_type": "execute_result"
    }
   ],
   "source": [
    "import nltk\n",
    "nltk.download('punkt')"
   ]
  },
  {
   "cell_type": "code",
   "execution_count": 2,
   "metadata": {
    "scrolled": true
   },
   "outputs": [
    {
     "name": "stderr",
     "output_type": "stream",
     "text": [
      "[nltk_data] Downloading package wordnet to /home/pradip/nltk_data...\n",
      "[nltk_data]   Package wordnet is already up-to-date!\n"
     ]
    },
    {
     "data": {
      "text/plain": [
       "True"
      ]
     },
     "execution_count": 2,
     "metadata": {},
     "output_type": "execute_result"
    }
   ],
   "source": [
    "nltk.download('wordnet')"
   ]
  },
  {
   "cell_type": "code",
   "execution_count": 3,
   "metadata": {},
   "outputs": [],
   "source": [
    "sen= \"Hi, i am billionaire\""
   ]
  },
  {
   "cell_type": "code",
   "execution_count": 4,
   "metadata": {},
   "outputs": [],
   "source": [
    "token=nltk.word_tokenize(sen)"
   ]
  },
  {
   "cell_type": "code",
   "execution_count": 5,
   "metadata": {},
   "outputs": [
    {
     "data": {
      "text/plain": [
       "['Hi', ',', 'i', 'am', 'billionaire']"
      ]
     },
     "execution_count": 5,
     "metadata": {},
     "output_type": "execute_result"
    }
   ],
   "source": [
    "token"
   ]
  },
  {
   "cell_type": "code",
   "execution_count": 6,
   "metadata": {},
   "outputs": [
    {
     "data": {
      "text/plain": [
       "['Hi', ',']"
      ]
     },
     "execution_count": 6,
     "metadata": {},
     "output_type": "execute_result"
    }
   ],
   "source": [
    "token[0:2]"
   ]
  },
  {
   "cell_type": "markdown",
   "metadata": {},
   "source": [
    "###  Stemming vs Lemmatizing\n",
    "<p> Word <b>Stemming</b> means removing affixes from words and\n",
    "returning the root word. <b>Lemmatizing</b> is similar to stemming, but the\n",
    "difference is that the result of lemmatizing is a real\n",
    "word</p>"
   ]
  },
  {
   "cell_type": "code",
   "execution_count": 7,
   "metadata": {},
   "outputs": [],
   "source": [
    "from nltk.stem import PorterStemmer"
   ]
  },
  {
   "cell_type": "code",
   "execution_count": 8,
   "metadata": {},
   "outputs": [],
   "source": [
    "stemmer=PorterStemmer()"
   ]
  },
  {
   "cell_type": "code",
   "execution_count": 9,
   "metadata": {},
   "outputs": [
    {
     "data": {
      "text/plain": [
       "'decres'"
      ]
     },
     "execution_count": 9,
     "metadata": {},
     "output_type": "execute_result"
    }
   ],
   "source": [
    "stemmer.stem(\"decrese\")"
   ]
  },
  {
   "cell_type": "code",
   "execution_count": 10,
   "metadata": {},
   "outputs": [],
   "source": [
    "from nltk.stem import WordNetLemmatizer"
   ]
  },
  {
   "cell_type": "code",
   "execution_count": 11,
   "metadata": {},
   "outputs": [],
   "source": [
    "lemma=WordNetLemmatizer()"
   ]
  },
  {
   "cell_type": "code",
   "execution_count": 12,
   "metadata": {},
   "outputs": [
    {
     "data": {
      "text/plain": [
       "'decrease'"
      ]
     },
     "execution_count": 12,
     "metadata": {},
     "output_type": "execute_result"
    }
   ],
   "source": [
    "lemma.lemmatize(\"decreases\")"
   ]
  },
  {
   "cell_type": "markdown",
   "metadata": {},
   "source": [
    "### Spacy"
   ]
  },
  {
   "cell_type": "code",
   "execution_count": 13,
   "metadata": {},
   "outputs": [],
   "source": [
    "import spacy"
   ]
  },
  {
   "cell_type": "code",
   "execution_count": null,
   "metadata": {},
   "outputs": [],
   "source": []
  },
  {
   "cell_type": "code",
   "execution_count": 14,
   "metadata": {},
   "outputs": [],
   "source": [
    "lan= spacy.load('en')"
   ]
  },
  {
   "cell_type": "code",
   "execution_count": 15,
   "metadata": {},
   "outputs": [],
   "source": [
    "william_wikidef = \"\"\"8.05pm Finally, England get their hands on the big prize. It could so easily have been New Zealand today, but you can't grudge Eoin Morgan's team. They're truly the best ODI side in the world, and if they had some holes in their combination before the tournament - the bowling attack conceding plenty, a tendency for their batsmen to crumble on bowling-friendly surfaces - those holes seem to have been filled now. They have two superfast wicket-takers for all conditions in Archer and Wood, and their batting looks so much more battle-hardened, as we saw today during that partnership between Ben Stokes and Jos Buttler.\n",
    "\n",
    "And what of New Zealand? They've been through more close games than any other team in this tournament, and until today they'd been finishing on the right end of those results. Against Bangladesh, South Africa, West Indies, India - have I missed any? Today, in the closest finish imaginable - tied match, tied Super Over, losing on boundary count - they've come out on the wrong side. It's going to take a while for them to get this out of their systems.\n",
    "\n",
    "We've had so much going on, so much to wrap up. Here's the final boundary count, the effective victory margin for England: 26-17. Is it the right way to separate tied teams? Who knows. It's the method we've got, and on this day it was England who triumphed. The smallest of margins.\n",
    "\n",
    "Anyway, that is it from all of us for this World Cup. We've had dozens of people bringing you commentary, reports and live reports. We've had a fantastic team of correspondents travelling around England and Wales and bringing you the very best ringside views. There's all the people producing the video content. We have a fantastic desk that puts all this content together. On behalf of all of them, goodbye. We hope you've had as incredible a time as we have.\n",
    "\n",
    "Eoin Morgan: \"There wasn't a lot in that game, jeez. I'd like to comisserate with Kane. The fight, the spirit they showed. I thought it was a hard, hard game. This has been a four-year journey, we've developed a lot over those years, particularly the last two. To get over the line today means the world to us. The guys in the middle keep us cool, the way they play, the experience. It's calming at times. Not a lot between the teams. Just delighted we're lifting the trophy today. As long as he wasn't too cooked [sending Stokes back out for the Super Over]. Full credit to those two boys and Jofra. Every time he plays, he improves. The world is really at his feet at the moment.\"\n",
    "\n",
    "Kane Williamson is the Player of the Tournament. \"Look, it certainly wasn't just one extra run,\" he says. \"So many small parts in that match that could have gone either way as we saw. Congratulations to England on a fantastic campaign. It's been challenging, the pitches have been a little different to what we expected. Lots of talk of 300-plus scores, but we haven't seen many of those. I'd like to thank the New Zealand team for the fight they showed to keep us in the tournament, and get us this far. A tie in the final. So many parts to it. The players are shattered at the moment. Obviously it's devastating. They've performed at such a high level through the tournament.\"\n",
    "\n",
    "He continues, on the match: \"We were weighing up the overheads versus the pitch, it was on the drier side. runs on the board, as it proved, was going to be challenging. We would have liked another 20, but in a World Cup final we'll take 240-250. Both sides showed a lot of heart, a lot of fight. For it to go to the last ball, and the last ball of the next match, it was pretty hard. That [the Stokes deflection] was a bit of a shame, wasn't it? You just hope it doesn't happen in moments like that. You can nitpick, but perhaps it just wasn't meant to be for us. It is perhaps tough to review the match, and such small margins.\"\n",
    "\n",
    "Ben Stokes is the Player of the Match. He gets a handshake from Sachin Tendulkar, who's part of the presentation party. \"I'm pretty lost for words,\" he says. \"All the hard words that's gone in over these four years, this is where we aspired to be. To do it with such a game, I don't think there will be another like this in the history of cricket. Jos and I knew if we'd be there close to the end, New Zealand would be under pressure. Not the way I wanted to do it, ball going off my bat like that, I apologised to Kane. We backed the new kid, Jofra Archer, the talent that he's got, he showed the world today. The lads, in this one-day team, the Test team, my family, their support has been massive. Now I'm just looking forward to tonight, mate.\"\n",
    "\n",
    "7.50pm: Here's a massive question from Vishal Jain: \"What if Santner had stolen a bye in 49.6 ball of New Zealand's batting innings?\" -- I'm thinking Buttler would have run the non-striker out, and New Zealand wouldn't have got that run anyway, but then again, what if...\n",
    "\n",
    "Bhanu: \"That deflection...got to be Hand of God, version of cricket.\" -- Absolutely!\n",
    "\n",
    "Another variant from Raghu: \"Hand of God Diego Maradona.. Bat of God Ben Stokes!!\" \"\"\""
   ]
  },
  {
   "cell_type": "code",
   "execution_count": 16,
   "metadata": {},
   "outputs": [],
   "source": [
    "ab='''Social media basically means any human communication or sharing information on internet that occurs through the medium of computer, tablet or mobile. There are numerous websites and apps that make it possible. Social media is now becoming one of the largest means of communication and is gaining popularity rapidly. Social media enables you to share ideas, content, information and news etc. at a much faster speed. In last few years social media has grown tremendously at an unexpectedly fast rate and has captured millions of users around the world. Here are essays on social media of varying word lengths to help you with the same in your exam. You can select any social media essay as per your need:\n",
    "\n",
    "LONG AND SHORT ESSAY ON SOCIAL MEDIA IN ENGLISH\n",
    "ESSAY ON SOCIAL MEDIA AND ITS IMPACT – ESSAY 1 (200 WORDS)\n",
    "We live in a time and age where information is just a button press away. We are swayed by information all around us. We millennials want to know, read, understand and then speak our minds about it. That is where social media comes into play. Social media is one of the biggest elements that we live with and cannot ignore it.\n",
    "\n",
    "Social media is collection of websites, applications and other platforms that enable us to share or create content and also helps us to participate in social networking. Social media is not limited to blogging and sharing pictures, there are lot of strong tools also that social media provides. That is because that the impact of social media is very high and far reaching. It can make or break images.\n",
    "\n",
    "But social media is a topic of controversy today, many feel it’s a boon but there is a majority who feels that it is a curse. Mostly people feel that social media has destroyed human interaction with a rapid rate and has modified modern human relationships. But there are others who feel that it is a blessing that has connected us to every part of the world, we can meet our loved ones that are far, we can spread awareness through it, we can send security warnings etc. There is a lot that social media can do. But it is an unarguable fact the presence of social media has made our lives convenient, easier and much faster.\n",
    "\n",
    " \n",
    "\n",
    "ESSAY ON POSITIVE AND NEGATIVE EFFECTS OF SOCIAL MEDIA – ESSAY 2 (300 WORDS)\n",
    "Introduction\n",
    "\n",
    "Social media plays a big role in our lives today. We have the access to any kind of information at just a button push away. Anything that is so vastly expanded has both positives and negatives related to it. The power of social media is very high and has its effects on each individual. It is difficult to imagine our lives with social media today and we do pay a price for excessive use. There is a lot of debate about the effects of social media on the society as a whole. Some feel that it’s a boon whereas other feels that it is a curse.\n",
    "\n",
    " '''"
   ]
  },
  {
   "cell_type": "code",
   "execution_count": null,
   "metadata": {},
   "outputs": [],
   "source": [
    "\n",
    "\n",
    "\n",
    "\n",
    "\n"
   ]
  },
  {
   "cell_type": "code",
   "execution_count": null,
   "metadata": {},
   "outputs": [],
   "source": []
  },
  {
   "cell_type": "code",
   "execution_count": 17,
   "metadata": {},
   "outputs": [
    {
     "name": "stdout",
     "output_type": "stream",
     "text": [
      "This is a sentence.\n"
     ]
    }
   ],
   "source": [
    "from spacy.lang.en import English\n",
    "\n",
    "# Create the nlp object\n",
    "nlp = English()\n",
    "\n",
    "# Process a text\n",
    "doc = nlp(\"This is a sentence.\")\n",
    "\n",
    "# Print the document text\n",
    "print(doc.text)"
   ]
  },
  {
   "cell_type": "code",
   "execution_count": null,
   "metadata": {},
   "outputs": [],
   "source": []
  },
  {
   "cell_type": "code",
   "execution_count": null,
   "metadata": {},
   "outputs": [],
   "source": []
  },
  {
   "cell_type": "code",
   "execution_count": null,
   "metadata": {},
   "outputs": [],
   "source": []
  },
  {
   "cell_type": "code",
   "execution_count": null,
   "metadata": {},
   "outputs": [],
   "source": []
  },
  {
   "cell_type": "code",
   "execution_count": null,
   "metadata": {},
   "outputs": [],
   "source": []
  },
  {
   "cell_type": "code",
   "execution_count": 18,
   "metadata": {},
   "outputs": [],
   "source": [
    "nlp_text=lan(ab)"
   ]
  },
  {
   "cell_type": "code",
   "execution_count": 19,
   "metadata": {},
   "outputs": [
    {
     "data": {
      "text/plain": [
       "Social media basically means any human communication or sharing information on internet that occurs through the medium of computer, tablet or mobile. There are numerous websites and apps that make it possible. Social media is now becoming one of the largest means of communication and is gaining popularity rapidly. Social media enables you to share ideas, content, information and news etc. at a much faster speed. In last few years social media has grown tremendously at an unexpectedly fast rate and has captured millions of users around the world. Here are essays on social media of varying word lengths to help you with the same in your exam. You can select any social media essay as per your need:\n",
       "\n",
       "LONG AND SHORT ESSAY ON SOCIAL MEDIA IN ENGLISH\n",
       "ESSAY ON SOCIAL MEDIA AND ITS IMPACT – ESSAY 1 (200 WORDS)\n",
       "We live in a time and age where information is just a button press away. We are swayed by information all around us. We millennials want to know, read, understand and then speak our minds about it. That is where social media comes into play. Social media is one of the biggest elements that we live with and cannot ignore it.\n",
       "\n",
       "Social media is collection of websites, applications and other platforms that enable us to share or create content and also helps us to participate in social networking. Social media is not limited to blogging and sharing pictures, there are lot of strong tools also that social media provides. That is because that the impact of social media is very high and far reaching. It can make or break images.\n",
       "\n",
       "But social media is a topic of controversy today, many feel it’s a boon but there is a majority who feels that it is a curse. Mostly people feel that social media has destroyed human interaction with a rapid rate and has modified modern human relationships. But there are others who feel that it is a blessing that has connected us to every part of the world, we can meet our loved ones that are far, we can spread awareness through it, we can send security warnings etc. There is a lot that social media can do. But it is an unarguable fact the presence of social media has made our lives convenient, easier and much faster.\n",
       "\n",
       " \n",
       "\n",
       "ESSAY ON POSITIVE AND NEGATIVE EFFECTS OF SOCIAL MEDIA – ESSAY 2 (300 WORDS)\n",
       "Introduction\n",
       "\n",
       "Social media plays a big role in our lives today. We have the access to any kind of information at just a button push away. Anything that is so vastly expanded has both positives and negatives related to it. The power of social media is very high and has its effects on each individual. It is difficult to imagine our lives with social media today and we do pay a price for excessive use. There is a lot of debate about the effects of social media on the society as a whole. Some feel that it’s a boon whereas other feels that it is a curse.\n",
       "\n",
       " "
      ]
     },
     "execution_count": 19,
     "metadata": {},
     "output_type": "execute_result"
    }
   ],
   "source": [
    "nlp_text"
   ]
  },
  {
   "cell_type": "code",
   "execution_count": 20,
   "metadata": {},
   "outputs": [
    {
     "data": {
      "text/plain": [
       "[(last few years, 'DATE', 388),\n",
       " (millions, 'CARDINAL', 394),\n",
       " (SOCIAL MEDIA, 'ORG', 381),\n",
       " (SOCIAL MEDIA, 'ORG', 381),\n",
       " (200, 'CARDINAL', 394),\n",
       " (one, 'CARDINAL', 394),\n",
       " (today, 'DATE', 388),\n",
       " (ESSAY, 'ORG', 381),\n",
       " (MEDIA, 'ORG', 381),\n",
       " (300, 'CARDINAL', 394),\n",
       " (today, 'DATE', 388),\n",
       " (today, 'DATE', 388)]"
      ]
     },
     "execution_count": 20,
     "metadata": {},
     "output_type": "execute_result"
    }
   ],
   "source": [
    "[(i,i.label_,i.label)for i in nlp_text.ents]"
   ]
  },
  {
   "cell_type": "code",
   "execution_count": 21,
   "metadata": {},
   "outputs": [
    {
     "data": {
      "text/plain": [
       "['very', 'nice', 'lecture']"
      ]
     },
     "execution_count": 21,
     "metadata": {},
     "output_type": "execute_result"
    }
   ],
   "source": [
    "# Text search across the sentence using Regular expression\n",
    "import re\n",
    "words = ['very','nice','lecture','day','moon']\n",
    "expression = '|'.join(words)\n",
    "re.findall(expression, 'i attended a very nice lecture lastyear', re.M)\n",
    "['very', 'nice', 'lecture']"
   ]
  },
  {
   "cell_type": "code",
   "execution_count": 22,
   "metadata": {},
   "outputs": [
    {
     "data": {
      "text/plain": [
       "['day', 'very', 'lecture']"
      ]
     },
     "execution_count": 22,
     "metadata": {},
     "output_type": "execute_result"
    }
   ],
   "source": [
    "import re\n",
    "words = ['very','nice','lecture','day','moon']\n",
    "expression='|'.join(words)\n",
    "re.findall(expression, \"hi how was day,you have very happy lecture.\")"
   ]
  },
  {
   "cell_type": "code",
   "execution_count": 23,
   "metadata": {},
   "outputs": [
    {
     "data": {
      "text/plain": [
       "'very|nice|lecture|day|moon'"
      ]
     },
     "execution_count": 23,
     "metadata": {},
     "output_type": "execute_result"
    }
   ],
   "source": [
    "expression"
   ]
  }
 ],
 "metadata": {
  "kernelspec": {
   "display_name": "Python 3",
   "language": "python",
   "name": "python3"
  },
  "language_info": {
   "codemirror_mode": {
    "name": "ipython",
    "version": 3
   },
   "file_extension": ".py",
   "mimetype": "text/x-python",
   "name": "python",
   "nbconvert_exporter": "python",
   "pygments_lexer": "ipython3",
   "version": "3.7.4"
  }
 },
 "nbformat": 4,
 "nbformat_minor": 2
}
